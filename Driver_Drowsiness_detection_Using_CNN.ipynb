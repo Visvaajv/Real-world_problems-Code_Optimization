{
  "metadata": {
    "kernelspec": {
      "language": "python",
      "display_name": "Python 3",
      "name": "python3"
    },
    "language_info": {
      "name": "python",
      "version": "3.10.13",
      "mimetype": "text/x-python",
      "codemirror_mode": {
        "name": "ipython",
        "version": 3
      },
      "pygments_lexer": "ipython3",
      "nbconvert_exporter": "python",
      "file_extension": ".py"
    },
    "kaggle": {
      "accelerator": "gpu",
      "dataSources": [
        {
          "sourceId": 3667213,
          "sourceType": "datasetVersion",
          "datasetId": 2195166
        }
      ],
      "isInternetEnabled": true,
      "language": "python",
      "sourceType": "notebook",
      "isGpuEnabled": true
    },
    "colab": {
      "name": "Driver Drowsiness detection Using CNN(MobileNetV2)",
      "provenance": []
    }
  },
  "nbformat_minor": 0,
  "nbformat": 4,
  "cells": [
    {
      "source": [
        "import os\n",
        "import sys\n",
        "from tempfile import NamedTemporaryFile\n",
        "from urllib.request import urlopen\n",
        "from urllib.parse import unquote, urlparse\n",
        "from urllib.error import HTTPError\n",
        "from zipfile import ZipFile\n",
        "import tarfile\n",
        "import shutil\n",
        "\n",
        "CHUNK_SIZE = 40960\n",
        "DATA_SOURCE_MAPPING = 'driver-drowsiness-dataset-ddd:https%3A%2F%2Fstorage.googleapis.com%2Fkaggle-data-sets%2F2195166%2F3667213%2Fbundle%2Farchive.zip%3FX-Goog-Algorithm%3DGOOG4-RSA-SHA256%26X-Goog-Credential%3Dgcp-kaggle-com%2540kaggle-161607.iam.gserviceaccount.com%252F20240427%252Fauto%252Fstorage%252Fgoog4_request%26X-Goog-Date%3D20240427T081443Z%26X-Goog-Expires%3D259200%26X-Goog-SignedHeaders%3Dhost%26X-Goog-Signature%3D0e19ea670b31274f39dc4c680c8dc64da5ba01c7a432ae7a924559fe9ce36c55e38e1e029bf22c1794cbdf499a13e87c214d1812c00298fb29f20b1eae989ddbd863808bec5e24fe086e90275850a900d9621ee8ce73d7ab8b772b73095f3021b361b0e66389a063aef10ab702315de5d33e235643cba99ef36372da2717b9026d2efb39ed269e2ebfe8ab1592475c54199462f8a08f6d89436c7bf4caf2b1e71021a7f8ab7e6c8ba0f238d6c46458ce497bbda73e762014d2a4b52ffcd5b3c3519e7a580e3c96d9de6918f2a925e0c4477933eb46f7f302c481868d2a0999c51a0981d7b33db6a0a210049a5ccf45cd5b8e540ec9037fa3a9f301eb955b2c21'\n",
        "\n",
        "KAGGLE_INPUT_PATH='/kaggle/input'\n",
        "KAGGLE_WORKING_PATH='/kaggle/working'\n",
        "KAGGLE_SYMLINK='kaggle'\n",
        "\n",
        "!umount /kaggle/input/ 2> /dev/null\n",
        "shutil.rmtree('/kaggle/input', ignore_errors=True)\n",
        "os.makedirs(KAGGLE_INPUT_PATH, 0o777, exist_ok=True)\n",
        "os.makedirs(KAGGLE_WORKING_PATH, 0o777, exist_ok=True)\n",
        "\n",
        "try:\n",
        "  os.symlink(KAGGLE_INPUT_PATH, os.path.join(\"..\", 'input'), target_is_directory=True)\n",
        "except FileExistsError:\n",
        "  pass\n",
        "try:\n",
        "  os.symlink(KAGGLE_WORKING_PATH, os.path.join(\"..\", 'working'), target_is_directory=True)\n",
        "except FileExistsError:\n",
        "  pass\n",
        "\n",
        "for data_source_mapping in DATA_SOURCE_MAPPING.split(','):\n",
        "    directory, download_url_encoded = data_source_mapping.split(':')\n",
        "    download_url = unquote(download_url_encoded)\n",
        "    filename = urlparse(download_url).path\n",
        "    destination_path = os.path.join(KAGGLE_INPUT_PATH, directory)\n",
        "    try:\n",
        "        with urlopen(download_url) as fileres, NamedTemporaryFile() as tfile:\n",
        "            total_length = fileres.headers['content-length']\n",
        "            print(f'Downloading {directory}, {total_length} bytes compressed')\n",
        "            dl = 0\n",
        "            data = fileres.read(CHUNK_SIZE)\n",
        "            while len(data) > 0:\n",
        "                dl += len(data)\n",
        "                tfile.write(data)\n",
        "                done = int(50 * dl / int(total_length))\n",
        "                sys.stdout.write(f\"\\r[{'=' * done}{' ' * (50-done)}] {dl} bytes downloaded\")\n",
        "                sys.stdout.flush()\n",
        "                data = fileres.read(CHUNK_SIZE)\n",
        "            if filename.endswith('.zip'):\n",
        "              with ZipFile(tfile) as zfile:\n",
        "                zfile.extractall(destination_path)\n",
        "            else:\n",
        "              with tarfile.open(tfile.name) as tarfile:\n",
        "                tarfile.extractall(destination_path)\n",
        "            print(f'\\nDownloaded and uncompressed: {directory}')\n",
        "    except HTTPError as e:\n",
        "        print(f'Failed to load (likely expired) {download_url} to path {destination_path}')\n",
        "        continue\n",
        "    except OSError as e:\n",
        "        print(f'Failed to load {download_url} to path {destination_path}')\n",
        "        continue\n",
        "\n",
        "print('Data source import complete.')\n"
      ],
      "metadata": {
        "id": "xCndrrQvnvtm"
      },
      "cell_type": "code",
      "outputs": [],
      "execution_count": null
    },
    {
      "cell_type": "markdown",
      "source": [
        "<img src=\"https://www.researchgate.net/publication/338379096/figure/fig1/AS:850507329449986@1579788157587/Some-samples-of-dataset-in-YawDD.png\" alt=\"Drivers Image\" width=\"800\" height=\"800\" style=\"display: block; margin: auto;\">"
      ],
      "metadata": {
        "id": "kuBlb0h0nvtt"
      }
    },
    {
      "cell_type": "markdown",
      "source": [
        "Importing Libraries"
      ],
      "metadata": {
        "id": "av_CwvPtnvtt"
      }
    },
    {
      "cell_type": "code",
      "source": [
        "import os\n",
        "import pandas as pd\n",
        "import numpy as np\n",
        "import matplotlib.pyplot as  plt\n",
        "import tensorflow as tf\n",
        "from tensorflow import keras\n",
        "from sklearn.metrics import confusion_matrix\n",
        "from sklearn.metrics import classification_report\n",
        "import seaborn as sns\n",
        "tf.random.set_seed(3)\n",
        "from tensorflow.keras.preprocessing.image import ImageDataGenerator\n",
        "from tensorflow.keras.optimizers import Adam\n",
        "from tensorflow.keras.losses import SparseCategoricalCrossentropy\n",
        "from tensorflow.keras.applications import MobileNetV2\n",
        "from tensorflow.keras.layers import Dense, Flatten\n",
        "from tensorflow.keras.models import Model\n",
        "from tensorflow.keras.optimizers import Adam, SGD\n",
        "from collections import Counter"
      ],
      "metadata": {
        "execution": {
          "iopub.status.busy": "2024-04-03T20:32:09.195041Z",
          "iopub.execute_input": "2024-04-03T20:32:09.195384Z",
          "iopub.status.idle": "2024-04-03T20:32:09.253765Z",
          "shell.execute_reply.started": "2024-04-03T20:32:09.195359Z",
          "shell.execute_reply": "2024-04-03T20:32:09.252736Z"
        },
        "trusted": true,
        "id": "8bU3evRznvtu"
      },
      "execution_count": null,
      "outputs": []
    },
    {
      "cell_type": "markdown",
      "source": [
        "\n",
        "Dividing Data into (train,test,val) folders"
      ],
      "metadata": {
        "id": "MgqppWuDnvtu"
      }
    },
    {
      "cell_type": "code",
      "source": [
        "!pip install split-folders"
      ],
      "metadata": {
        "execution": {
          "iopub.status.busy": "2024-04-03T17:44:10.715848Z",
          "iopub.execute_input": "2024-04-03T17:44:10.716565Z",
          "iopub.status.idle": "2024-04-03T17:44:24.158341Z",
          "shell.execute_reply.started": "2024-04-03T17:44:10.716539Z",
          "shell.execute_reply": "2024-04-03T17:44:24.157343Z"
        },
        "trusted": true,
        "id": "sxxO2M2mnvtv"
      },
      "execution_count": null,
      "outputs": []
    },
    {
      "cell_type": "code",
      "source": [
        "import splitfolders\n",
        "\n",
        "data_dir = '/kaggle/input/driver-drowsiness-dataset-ddd/Driver Drowsiness Dataset (DDD)'\n",
        "output_dir = '/kaggle/working/splitted_Data'\n",
        "splitfolders.ratio(data_dir, output=output_dir, seed=1337, ratio=(.8, 0.15, 0.05))\n"
      ],
      "metadata": {
        "execution": {
          "iopub.status.busy": "2024-04-03T17:44:24.160283Z",
          "iopub.execute_input": "2024-04-03T17:44:24.160586Z",
          "iopub.status.idle": "2024-04-03T17:47:55.968216Z",
          "shell.execute_reply.started": "2024-04-03T17:44:24.160555Z",
          "shell.execute_reply": "2024-04-03T17:47:55.967207Z"
        },
        "trusted": true,
        "id": "pKE7v-gonvtv"
      },
      "execution_count": null,
      "outputs": []
    },
    {
      "cell_type": "markdown",
      "source": [
        "\n",
        "Reading Data (train,test,val)"
      ],
      "metadata": {
        "id": "W65V52HFnvtv"
      }
    },
    {
      "cell_type": "code",
      "source": [
        "train_dir = \"/kaggle/working/splitted_Data/train\"\n",
        "test_dir = \"/kaggle/working/splitted_Data/test\"\n",
        "val_dir = \"/kaggle/working/splitted_Data/val\""
      ],
      "metadata": {
        "execution": {
          "iopub.status.busy": "2024-04-03T19:10:33.050986Z",
          "iopub.execute_input": "2024-04-03T19:10:33.0519Z",
          "iopub.status.idle": "2024-04-03T19:10:33.055942Z",
          "shell.execute_reply.started": "2024-04-03T19:10:33.051847Z",
          "shell.execute_reply": "2024-04-03T19:10:33.055093Z"
        },
        "trusted": true,
        "id": "YEgzZkulnvtw"
      },
      "execution_count": null,
      "outputs": []
    },
    {
      "cell_type": "code",
      "source": [
        "train_datagen = ImageDataGenerator(rescale=1./255)\n",
        "test_datagen = ImageDataGenerator(rescale=1./255)\n",
        "val_datagen = ImageDataGenerator(rescale=1./255)"
      ],
      "metadata": {
        "execution": {
          "iopub.status.busy": "2024-04-03T19:10:36.165908Z",
          "iopub.execute_input": "2024-04-03T19:10:36.166288Z",
          "iopub.status.idle": "2024-04-03T19:10:36.170934Z",
          "shell.execute_reply.started": "2024-04-03T19:10:36.166259Z",
          "shell.execute_reply": "2024-04-03T19:10:36.170034Z"
        },
        "trusted": true,
        "id": "whVUIaaNnvtx"
      },
      "execution_count": null,
      "outputs": []
    },
    {
      "cell_type": "markdown",
      "source": [
        "For Train"
      ],
      "metadata": {
        "id": "Qr41uLY-nvty"
      }
    },
    {
      "cell_type": "code",
      "source": [
        "train_batches = train_datagen.flow_from_directory(\n",
        "    train_dir,\n",
        "    target_size=(224, 224),\n",
        "    batch_size=16,\n",
        "    class_mode='binary',\n",
        "    shuffle=True\n",
        ")"
      ],
      "metadata": {
        "execution": {
          "iopub.status.busy": "2024-04-03T19:10:39.350478Z",
          "iopub.execute_input": "2024-04-03T19:10:39.35085Z",
          "iopub.status.idle": "2024-04-03T19:10:40.229106Z",
          "shell.execute_reply.started": "2024-04-03T19:10:39.350823Z",
          "shell.execute_reply": "2024-04-03T19:10:40.228093Z"
        },
        "trusted": true,
        "id": "_OuyJ8Dinvty"
      },
      "execution_count": null,
      "outputs": []
    },
    {
      "cell_type": "markdown",
      "source": [
        "For Test"
      ],
      "metadata": {
        "id": "Zwm4NmEenvty"
      }
    },
    {
      "cell_type": "code",
      "source": [
        "test_batches = test_datagen.flow_from_directory(\n",
        "    test_dir,\n",
        "    target_size=(224, 224),\n",
        "    batch_size=16,\n",
        "    class_mode='binary' ,\n",
        "    shuffle=True\n",
        ")"
      ],
      "metadata": {
        "execution": {
          "iopub.status.busy": "2024-04-03T19:10:41.453355Z",
          "iopub.execute_input": "2024-04-03T19:10:41.453754Z",
          "iopub.status.idle": "2024-04-03T19:10:41.519441Z",
          "shell.execute_reply.started": "2024-04-03T19:10:41.453715Z",
          "shell.execute_reply": "2024-04-03T19:10:41.518712Z"
        },
        "trusted": true,
        "id": "0J2ADZolnvty"
      },
      "execution_count": null,
      "outputs": []
    },
    {
      "cell_type": "markdown",
      "source": [
        "\n",
        "For Validation"
      ],
      "metadata": {
        "id": "FlwhcM5Cnvty"
      }
    },
    {
      "cell_type": "code",
      "source": [
        "val_batches = val_datagen.flow_from_directory(\n",
        "    val_dir,\n",
        "    target_size=(224, 224),\n",
        "    batch_size=16,\n",
        "    class_mode='binary',\n",
        "    shuffle=True\n",
        ")"
      ],
      "metadata": {
        "execution": {
          "iopub.status.busy": "2024-04-03T19:10:42.903222Z",
          "iopub.execute_input": "2024-04-03T19:10:42.903861Z",
          "iopub.status.idle": "2024-04-03T19:10:43.079578Z",
          "shell.execute_reply.started": "2024-04-03T19:10:42.903827Z",
          "shell.execute_reply": "2024-04-03T19:10:43.078872Z"
        },
        "trusted": true,
        "id": "WFnQRE_Qnvty"
      },
      "execution_count": null,
      "outputs": []
    },
    {
      "cell_type": "markdown",
      "source": [
        "Verify a few things(preprocessing ).\n"
      ],
      "metadata": {
        "id": "HW9s2PD8nvtz"
      }
    },
    {
      "cell_type": "markdown",
      "source": [
        "check lables ,classes names ,Count occurrences of each class label"
      ],
      "metadata": {
        "id": "lCnTf-a_nvtz"
      }
    },
    {
      "cell_type": "code",
      "source": [
        "train_class_indices = train_batches.class_indices\n",
        "test_class_indices = test_batches.class_indices\n",
        "val_class_indices = val_batches.class_indices\n",
        "\n",
        "train_class_labels = train_batches.classes\n",
        "test_class_labels = test_batches.classes\n",
        "val_class_labels = val_batches.classes\n",
        "\n",
        "\n",
        "train_class_counts = Counter(train_class_labels)\n",
        "test_class_counts = Counter(test_class_labels)\n",
        "val_class_counts = Counter(val_class_labels)\n",
        "\n",
        "print(\"Class Names for train:\\n\", train_class_indices)\n",
        "print(\"Class Counts for train:\\n\", train_class_counts)\n",
        "print(end='\\n')\n",
        "\n",
        "print(\"Class Names for test:\\n\", test_class_indices)\n",
        "print(\"Class Counts for test:\\n\", test_class_counts)\n",
        "print(end='\\n')\n",
        "\n",
        "print(\"Class Names for validation :\\n\", val_class_indices)\n",
        "print(\"Class Counts for validation:\\n\", val_class_counts)\n"
      ],
      "metadata": {
        "execution": {
          "iopub.status.busy": "2024-04-03T19:47:19.73167Z",
          "iopub.execute_input": "2024-04-03T19:47:19.732062Z",
          "iopub.status.idle": "2024-04-03T19:47:19.750259Z",
          "shell.execute_reply.started": "2024-04-03T19:47:19.732035Z",
          "shell.execute_reply": "2024-04-03T19:47:19.749332Z"
        },
        "trusted": true,
        "id": "mJvHA3UInvtz"
      },
      "execution_count": null,
      "outputs": []
    },
    {
      "cell_type": "markdown",
      "source": [
        "check Normalization"
      ],
      "metadata": {
        "id": "pI03rW83nvtz"
      }
    },
    {
      "cell_type": "code",
      "source": [
        "images, labels = next(train_batches)\n",
        "print(f\"Pixels of the first image after Normalization: \\n\\n{images[0]}\") #print pixels of the first img\n",
        "plt.imshow(images[0])\n",
        "plt.show()"
      ],
      "metadata": {
        "execution": {
          "iopub.status.busy": "2024-04-03T19:47:59.130852Z",
          "iopub.execute_input": "2024-04-03T19:47:59.131224Z",
          "iopub.status.idle": "2024-04-03T19:47:59.539433Z",
          "shell.execute_reply.started": "2024-04-03T19:47:59.131196Z",
          "shell.execute_reply": "2024-04-03T19:47:59.538436Z"
        },
        "trusted": true,
        "id": "LNREYb_Dnvtz"
      },
      "execution_count": null,
      "outputs": []
    },
    {
      "cell_type": "markdown",
      "source": [
        "check channels (RGB),imgs' shapes"
      ],
      "metadata": {
        "execution": {
          "iopub.status.busy": "2024-04-03T19:47:34.068372Z",
          "iopub.execute_input": "2024-04-03T19:47:34.06931Z",
          "iopub.status.idle": "2024-04-03T19:47:34.073207Z",
          "shell.execute_reply.started": "2024-04-03T19:47:34.069276Z",
          "shell.execute_reply": "2024-04-03T19:47:34.072258Z"
        },
        "id": "ffYIMW8vnvtz"
      }
    },
    {
      "cell_type": "code",
      "source": [
        "print(f\"there are { images[0].ndim} Channels \")\n",
        "print(f\"image shape : {images[0].shape}\")"
      ],
      "metadata": {
        "execution": {
          "iopub.status.busy": "2024-04-03T19:48:06.387759Z",
          "iopub.execute_input": "2024-04-03T19:48:06.38846Z",
          "iopub.status.idle": "2024-04-03T19:48:06.393232Z",
          "shell.execute_reply.started": "2024-04-03T19:48:06.388425Z",
          "shell.execute_reply": "2024-04-03T19:48:06.392293Z"
        },
        "trusted": true,
        "id": "6w5mvqTHnvtz"
      },
      "execution_count": null,
      "outputs": []
    },
    {
      "cell_type": "markdown",
      "source": [
        "Display the first 45 training images"
      ],
      "metadata": {
        "execution": {
          "iopub.status.busy": "2024-04-03T19:48:07.647212Z",
          "iopub.execute_input": "2024-04-03T19:48:07.648312Z",
          "iopub.status.idle": "2024-04-03T19:48:07.652165Z",
          "shell.execute_reply.started": "2024-04-03T19:48:07.648277Z",
          "shell.execute_reply": "2024-04-03T19:48:07.651165Z"
        },
        "id": "GO1jUveynvt0"
      }
    },
    {
      "cell_type": "markdown",
      "source": [
        "check shuffling"
      ],
      "metadata": {
        "id": "BJdH_-Aonvt0"
      }
    },
    {
      "cell_type": "code",
      "source": [
        "fig, axes = plt.subplots(8, 4, figsize=(15, 30))\n",
        "class_indices = train_batches.class_indices\n",
        "\n",
        "for i in range(8):\n",
        "    images, labels = next(train_batches)\n",
        "    for j in range(4):\n",
        "\n",
        "        ax = axes[i, j]\n",
        "        ax.imshow(images[j])\n",
        "        ax.axis('off')\n",
        "        label = int(labels[j])\n",
        "        label_name = list(class_indices.keys())[list(class_indices.values()).index(label)]\n",
        "        ax.set_title(f'{label_name} ({label})')\n",
        "\n",
        "plt.tight_layout()\n",
        "plt.show()\n"
      ],
      "metadata": {
        "execution": {
          "iopub.status.busy": "2024-04-03T19:48:22.813675Z",
          "iopub.execute_input": "2024-04-03T19:48:22.814085Z",
          "iopub.status.idle": "2024-04-03T19:48:28.968441Z",
          "shell.execute_reply.started": "2024-04-03T19:48:22.814055Z",
          "shell.execute_reply": "2024-04-03T19:48:28.966785Z"
        },
        "trusted": true,
        "id": "58WF1X3invt0"
      },
      "execution_count": null,
      "outputs": []
    },
    {
      "cell_type": "markdown",
      "source": [
        "Modeling time"
      ],
      "metadata": {
        "id": "OxpnZ80Ynvt0"
      }
    },
    {
      "cell_type": "markdown",
      "source": [
        "Load MobileNetV2 model"
      ],
      "metadata": {
        "id": "DWAeZ4-wnvt0"
      }
    },
    {
      "cell_type": "code",
      "source": [
        "base_model = MobileNetV2(\n",
        "    weights='imagenet',\n",
        "    include_top=False,\n",
        "    input_shape=(image_size[0], image_size[1], 3),\n",
        ")\n"
      ],
      "metadata": {
        "execution": {
          "iopub.status.busy": "2024-04-03T20:04:54.652733Z",
          "iopub.execute_input": "2024-04-03T20:04:54.653138Z",
          "iopub.status.idle": "2024-04-03T20:04:55.70183Z",
          "shell.execute_reply.started": "2024-04-03T20:04:54.653107Z",
          "shell.execute_reply": "2024-04-03T20:04:55.701005Z"
        },
        "trusted": true,
        "id": "bIXz8vpjnvt0"
      },
      "execution_count": null,
      "outputs": []
    },
    {
      "cell_type": "code",
      "source": [
        "type(base_model)"
      ],
      "metadata": {
        "execution": {
          "iopub.status.busy": "2024-04-03T20:04:58.721657Z",
          "iopub.execute_input": "2024-04-03T20:04:58.722592Z",
          "iopub.status.idle": "2024-04-03T20:04:58.728663Z",
          "shell.execute_reply.started": "2024-04-03T20:04:58.722557Z",
          "shell.execute_reply": "2024-04-03T20:04:58.727726Z"
        },
        "trusted": true,
        "id": "vOiGkJQ0nvt1"
      },
      "execution_count": null,
      "outputs": []
    },
    {
      "cell_type": "markdown",
      "source": [
        "Getting Summary of VGG16 model"
      ],
      "metadata": {
        "id": "Yf4mNft6nvt1"
      }
    },
    {
      "cell_type": "code",
      "source": [
        "base_model.summary()"
      ],
      "metadata": {
        "execution": {
          "iopub.status.busy": "2024-04-03T20:05:02.744713Z",
          "iopub.execute_input": "2024-04-03T20:05:02.745216Z",
          "iopub.status.idle": "2024-04-03T20:05:02.953548Z",
          "shell.execute_reply.started": "2024-04-03T20:05:02.745171Z",
          "shell.execute_reply": "2024-04-03T20:05:02.952576Z"
        },
        "trusted": true,
        "id": "ymTDUb3Envt1"
      },
      "execution_count": null,
      "outputs": []
    },
    {
      "cell_type": "markdown",
      "source": [
        "Build a new Sequential model"
      ],
      "metadata": {
        "id": "aEGwpS87nvt1"
      }
    },
    {
      "cell_type": "code",
      "source": [
        "model=keras.Sequential() #empty"
      ],
      "metadata": {
        "execution": {
          "iopub.status.busy": "2024-04-03T20:05:12.719217Z",
          "iopub.execute_input": "2024-04-03T20:05:12.720088Z",
          "iopub.status.idle": "2024-04-03T20:05:12.726576Z",
          "shell.execute_reply.started": "2024-04-03T20:05:12.720048Z",
          "shell.execute_reply": "2024-04-03T20:05:12.725471Z"
        },
        "trusted": true,
        "id": "NEPaoMd4nvt1"
      },
      "execution_count": null,
      "outputs": []
    },
    {
      "cell_type": "markdown",
      "source": [
        "Freeze layers"
      ],
      "metadata": {
        "id": "sJWIVgvVnvt1"
      }
    },
    {
      "cell_type": "code",
      "source": [
        "for layer in base_model.layers[:-25] :\n",
        "    layer.trainable = False"
      ],
      "metadata": {
        "execution": {
          "iopub.status.busy": "2024-04-03T20:05:27.176888Z",
          "iopub.execute_input": "2024-04-03T20:05:27.177593Z",
          "iopub.status.idle": "2024-04-03T20:05:27.184776Z",
          "shell.execute_reply.started": "2024-04-03T20:05:27.177563Z",
          "shell.execute_reply": "2024-04-03T20:05:27.183859Z"
        },
        "trusted": true,
        "id": "fwL8Lch2nvt8"
      },
      "execution_count": null,
      "outputs": []
    },
    {
      "cell_type": "markdown",
      "source": [
        "\n",
        "Define the architecture of the neural the new model"
      ],
      "metadata": {
        "id": "fy99aqFxnvt8"
      }
    },
    {
      "cell_type": "code",
      "source": [
        "x = base_model.output\n",
        "x = Flatten()(x)\n",
        "x = Dense(1024, activation='relu')(x)\n",
        "x = Dense(512, activation='relu')(x)\n",
        "predictions = Dense(2, activation='softmax')(x)"
      ],
      "metadata": {
        "execution": {
          "iopub.status.busy": "2024-04-03T20:05:48.957283Z",
          "iopub.execute_input": "2024-04-03T20:05:48.957653Z",
          "iopub.status.idle": "2024-04-03T20:05:48.988895Z",
          "shell.execute_reply.started": "2024-04-03T20:05:48.957624Z",
          "shell.execute_reply": "2024-04-03T20:05:48.988045Z"
        },
        "trusted": true,
        "id": "cgJRJwzznvt8"
      },
      "execution_count": null,
      "outputs": []
    },
    {
      "cell_type": "code",
      "source": [
        "model = Model(inputs=base_model.input, outputs=predictions)"
      ],
      "metadata": {
        "execution": {
          "iopub.status.busy": "2024-04-03T20:05:52.111452Z",
          "iopub.execute_input": "2024-04-03T20:05:52.111853Z",
          "iopub.status.idle": "2024-04-03T20:05:52.137924Z",
          "shell.execute_reply.started": "2024-04-03T20:05:52.111823Z",
          "shell.execute_reply": "2024-04-03T20:05:52.136852Z"
        },
        "trusted": true,
        "id": "W33I-QLpnvt8"
      },
      "execution_count": null,
      "outputs": []
    },
    {
      "cell_type": "markdown",
      "source": [
        "\n",
        "Summary of the model"
      ],
      "metadata": {
        "id": "_IaCbsL6nvt8"
      }
    },
    {
      "cell_type": "code",
      "source": [
        "model.summary()"
      ],
      "metadata": {
        "execution": {
          "iopub.status.busy": "2024-04-03T20:06:05.720787Z",
          "iopub.execute_input": "2024-04-03T20:06:05.721422Z",
          "iopub.status.idle": "2024-04-03T20:06:05.929452Z",
          "shell.execute_reply.started": "2024-04-03T20:06:05.72139Z",
          "shell.execute_reply": "2024-04-03T20:06:05.928592Z"
        },
        "trusted": true,
        "id": "cKBMbF06nvt8"
      },
      "execution_count": null,
      "outputs": []
    },
    {
      "cell_type": "markdown",
      "source": [
        "Compile the model"
      ],
      "metadata": {
        "id": "jNZn2uopnvt9"
      }
    },
    {
      "cell_type": "code",
      "source": [
        "model.compile(optimizer=Adam(0.0001 ), loss='sparse_categorical_crossentropy', metrics=['accuracy'])"
      ],
      "metadata": {
        "execution": {
          "iopub.status.busy": "2024-04-03T20:06:18.663161Z",
          "iopub.execute_input": "2024-04-03T20:06:18.663503Z",
          "iopub.status.idle": "2024-04-03T20:06:18.676731Z",
          "shell.execute_reply.started": "2024-04-03T20:06:18.663479Z",
          "shell.execute_reply": "2024-04-03T20:06:18.675808Z"
        },
        "trusted": true,
        "id": "Qay-bjY-nvt9"
      },
      "execution_count": null,
      "outputs": []
    },
    {
      "cell_type": "markdown",
      "source": [
        "\n",
        "Train the model"
      ],
      "metadata": {
        "id": "W6SRj2Ounvt9"
      }
    },
    {
      "cell_type": "code",
      "source": [
        "history = model.fit(\n",
        "   train_batches,\n",
        "    epochs=10,\n",
        "    validation_data=val_batches,\n",
        "    batch_size=32\n",
        ")"
      ],
      "metadata": {
        "execution": {
          "iopub.status.busy": "2024-04-03T20:06:22.649205Z",
          "iopub.execute_input": "2024-04-03T20:06:22.649616Z",
          "iopub.status.idle": "2024-04-03T20:28:31.815017Z",
          "shell.execute_reply.started": "2024-04-03T20:06:22.649586Z",
          "shell.execute_reply": "2024-04-03T20:28:31.814162Z"
        },
        "trusted": true,
        "id": "39FnH_rMnvt9"
      },
      "execution_count": null,
      "outputs": []
    },
    {
      "cell_type": "code",
      "source": [
        "tf.keras.utils.plot_model(model, show_shapes=True)"
      ],
      "metadata": {
        "execution": {
          "iopub.status.busy": "2024-04-03T20:36:02.995769Z",
          "iopub.execute_input": "2024-04-03T20:36:02.996731Z",
          "iopub.status.idle": "2024-04-03T20:36:04.626781Z",
          "shell.execute_reply.started": "2024-04-03T20:36:02.996674Z",
          "shell.execute_reply": "2024-04-03T20:36:04.625758Z"
        },
        "trusted": true,
        "id": "LuhXZyZFnvt9"
      },
      "execution_count": null,
      "outputs": []
    },
    {
      "cell_type": "markdown",
      "source": [
        "Evaluation time\n"
      ],
      "metadata": {
        "id": "AYrIDh1ynvt9"
      }
    },
    {
      "cell_type": "markdown",
      "source": [
        "Evaluate the model's performance on the test training batches."
      ],
      "metadata": {
        "id": "IYPM9ypXnvt9"
      }
    },
    {
      "cell_type": "code",
      "source": [
        "loss, accuracy = model.evaluate(train_batches)\n",
        "\n",
        "print(f\"Training Loss: {loss:.4f}\")\n",
        "print(f\"Training Accuracy: {accuracy*100:.2f}%\")"
      ],
      "metadata": {
        "execution": {
          "iopub.status.busy": "2024-04-03T20:28:49.277115Z",
          "iopub.execute_input": "2024-04-03T20:28:49.277506Z",
          "iopub.status.idle": "2024-04-03T20:30:36.773238Z",
          "shell.execute_reply.started": "2024-04-03T20:28:49.277476Z",
          "shell.execute_reply": "2024-04-03T20:30:36.772222Z"
        },
        "trusted": true,
        "id": "392-aclHnvt9"
      },
      "execution_count": null,
      "outputs": []
    },
    {
      "cell_type": "markdown",
      "source": [
        "Evaluate the model's performance on the test data batches."
      ],
      "metadata": {
        "id": "pgrK6Vx7nvt-"
      }
    },
    {
      "cell_type": "code",
      "source": [
        "loss, accuracy = model.evaluate(test_batches)\n",
        "\n",
        "print(f\"Test Loss: {loss:.4f}\")\n",
        "print(f\"Test Accuracy: {accuracy*100:.2f}%\")"
      ],
      "metadata": {
        "execution": {
          "iopub.status.busy": "2024-04-03T20:30:55.171206Z",
          "iopub.execute_input": "2024-04-03T20:30:55.172002Z",
          "iopub.status.idle": "2024-04-03T20:31:04.075172Z",
          "shell.execute_reply.started": "2024-04-03T20:30:55.171971Z",
          "shell.execute_reply": "2024-04-03T20:31:04.07432Z"
        },
        "trusted": true,
        "id": "fhGWKpEPnvt-"
      },
      "execution_count": null,
      "outputs": []
    },
    {
      "cell_type": "markdown",
      "source": [
        "Predict test_batches"
      ],
      "metadata": {
        "id": "AA27M0kXnvt-"
      }
    },
    {
      "cell_type": "code",
      "source": [
        "y_pred = model.predict(test_batches)\n",
        "\n",
        "y_pred_labels = np.argmax(y_pred, axis=1)"
      ],
      "metadata": {
        "execution": {
          "iopub.status.busy": "2024-04-03T20:31:19.857875Z",
          "iopub.execute_input": "2024-04-03T20:31:19.858707Z",
          "iopub.status.idle": "2024-04-03T20:31:32.290518Z",
          "shell.execute_reply.started": "2024-04-03T20:31:19.858661Z",
          "shell.execute_reply": "2024-04-03T20:31:32.289327Z"
        },
        "trusted": true,
        "id": "2q9JqvHznvt-"
      },
      "execution_count": null,
      "outputs": []
    },
    {
      "cell_type": "markdown",
      "source": [
        "Get the actual labels from test_batches"
      ],
      "metadata": {
        "id": "kyiBu2vYnvt-"
      }
    },
    {
      "cell_type": "code",
      "source": [
        "y_actual = test_batches.labels"
      ],
      "metadata": {
        "execution": {
          "iopub.status.busy": "2024-04-03T20:31:35.512966Z",
          "iopub.execute_input": "2024-04-03T20:31:35.51376Z",
          "iopub.status.idle": "2024-04-03T20:31:35.517879Z",
          "shell.execute_reply.started": "2024-04-03T20:31:35.513729Z",
          "shell.execute_reply": "2024-04-03T20:31:35.516945Z"
        },
        "trusted": true,
        "id": "Wo1pxToUnvt-"
      },
      "execution_count": null,
      "outputs": []
    },
    {
      "cell_type": "markdown",
      "source": [
        "Compute the confusion matrix"
      ],
      "metadata": {
        "id": "Le1_zJDanvt_"
      }
    },
    {
      "cell_type": "code",
      "source": [
        "conf_matrix = confusion_matrix(y_actual, y_pred_labels)\n",
        "\n",
        "print(conf_matrix)"
      ],
      "metadata": {
        "execution": {
          "iopub.status.busy": "2024-04-03T20:33:20.819489Z",
          "iopub.execute_input": "2024-04-03T20:33:20.819883Z",
          "iopub.status.idle": "2024-04-03T20:33:20.827157Z",
          "shell.execute_reply.started": "2024-04-03T20:33:20.819855Z",
          "shell.execute_reply": "2024-04-03T20:33:20.82629Z"
        },
        "trusted": true,
        "id": "9inrudf3nvt_"
      },
      "execution_count": null,
      "outputs": []
    },
    {
      "cell_type": "markdown",
      "source": [
        "Plot the confusion matrix"
      ],
      "metadata": {
        "id": "w-wKhEz5nvt_"
      }
    },
    {
      "cell_type": "code",
      "source": [
        "plt.figure(figsize=(8, 6))\n",
        "sns.heatmap(conf_matrix, annot=True, fmt='d', cmap='bone',\n",
        "            xticklabels=['Class 0', 'Class 1'],\n",
        "            yticklabels=['Class 0', 'Class 1'])\n",
        "plt.xlabel('Predicted')\n",
        "plt.ylabel('Actual')\n",
        "plt.title('Confusion Matrix')\n",
        "plt.show()"
      ],
      "metadata": {
        "execution": {
          "iopub.status.busy": "2024-04-03T20:33:25.050567Z",
          "iopub.execute_input": "2024-04-03T20:33:25.05118Z",
          "iopub.status.idle": "2024-04-03T20:33:25.33782Z",
          "shell.execute_reply.started": "2024-04-03T20:33:25.051149Z",
          "shell.execute_reply": "2024-04-03T20:33:25.336859Z"
        },
        "trusted": true,
        "id": "aGgRe4xlnvt_"
      },
      "execution_count": null,
      "outputs": []
    },
    {
      "cell_type": "markdown",
      "source": [
        "Generate the classification report"
      ],
      "metadata": {
        "id": "ISs1dyVhnvt_"
      }
    },
    {
      "cell_type": "code",
      "source": [
        "report = classification_report(y_actual, y_pred_labels)\n",
        "print(report)"
      ],
      "metadata": {
        "execution": {
          "iopub.status.busy": "2024-04-03T20:33:30.422329Z",
          "iopub.execute_input": "2024-04-03T20:33:30.422673Z",
          "iopub.status.idle": "2024-04-03T20:33:30.438243Z",
          "shell.execute_reply.started": "2024-04-03T20:33:30.422648Z",
          "shell.execute_reply": "2024-04-03T20:33:30.437197Z"
        },
        "trusted": true,
        "id": "YfBOKW5lnvt_"
      },
      "execution_count": null,
      "outputs": []
    }
  ]
}